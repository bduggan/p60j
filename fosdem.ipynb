{
 "cells": [
  {
   "cell_type": "markdown",
   "metadata": {
    "slideshow": {
     "slide_type": "subslide"
    }
   },
   "source": [
    "## Perl 6 on Jupyter\n",
    "\n",
    "# FOSDEM 2018\n",
    "\n",
    "Brian Duggan\n",
    "\n",
    "github:bduggan &bull; irc:bdmatatu &bull; bduggan@matatu.org\n",
    "\n",
    "![](files/img/promptworks-logo.png)"
   ]
  },
  {
   "cell_type": "markdown",
   "metadata": {
    "slideshow": {
     "slide_type": "slide"
    }
   },
   "source": [
    "![](files/img/promptworks-logo.png)\n",
    "\n",
    "We craft software for companies\n",
    "that care about the details."
   ]
  },
  {
   "cell_type": "markdown",
   "metadata": {
    "slideshow": {
     "slide_type": "slide"
    }
   },
   "source": [
    "# Outline\n",
    "* &rarr;**Jupyter**\n",
    "* Architecture\n",
    "* Console\n",
    "* Autocompletion\n",
    "* Notebooks: Basics\n",
    "* Magics\n",
    "* Comms (asynchronous)\n",
    "* Notebooks: Fancier"
   ]
  },
  {
   "cell_type": "markdown",
   "metadata": {
    "slideshow": {
     "slide_type": "slide"
    }
   },
   "source": [
    "## but first\n",
    "\n",
    "If you have a laptop, you can go to\n",
    "\n",
    "http://github.com/bduggan/p6-jupyter-kernel\n",
    "\n",
    "and click \"Launch Binder\", to experiment during this talk."
   ]
  },
  {
   "cell_type": "markdown",
   "metadata": {
    "slideshow": {
     "slide_type": "slide"
    }
   },
   "source": [
    "### Jupyter\n",
    "* IPython: 2001-present\n",
    "* Jupyter: 2014-present\n",
    "* Goals\n",
    " * Improve Read-Eval-Print-Loop (REPL) interface\n",
    " * \"Rich\" Interactive Shells\n",
    " * Visualizing Output\n",
    " * Serializing, Sharing, Replaying REPL sessions\n",
    " * Started with Julia, R, Python\n",
    " * Now over 40 languages, including Perl 6\n",
    " * ~ 500,000 \"notebooks\" on github\n",
    " * Popular in scientific community\n",
    " * Used for collaboration and research\n",
    " * Some integration with journals/publishers"
   ]
  },
  {
   "cell_type": "markdown",
   "metadata": {
    "slideshow": {
     "slide_type": "slide"
    }
   },
   "source": [
    "# Outline\n",
    "* ✓ Jupyter\n",
    "* &rarr; **Architecture**\n",
    "* Console\n",
    "* Autocompletion\n",
    "* Notebooks: Basics\n",
    "* Magics\n",
    "* Comms (asynchronous)\n",
    "* Notebooks: Fancier"
   ]
  },
  {
   "cell_type": "markdown",
   "metadata": {
    "slideshow": {
     "slide_type": "slide"
    }
   },
   "source": [
    "## Architecture\n",
    "<img src='files/img/repl1-3.svg' width='40%'>\n",
    "* Typical REPL flow, often a single process on a single computer."
   ]
  },
  {
   "cell_type": "markdown",
   "metadata": {
    "slideshow": {
     "slide_type": "slide"
    }
   },
   "source": [
    "#### Architecture\n",
    "![](files/img/repl2.svg)\n",
    "* Separate client, jupyter server, and kernel\n",
    "* One server can support multiple clients, multiple kernels\n",
    "* Kernel can be stopped, started\n",
    "* Replay input to reproduce output"
   ]
  },
  {
   "cell_type": "markdown",
   "metadata": {
    "slideshow": {
     "slide_type": "slide"
    }
   },
   "source": [
    "####  Architecture\n",
    "![](files/img/notebook_components.png)\n",
    "<small style='font-size:30%'>\n",
    "source: http://jupyter.readthedocs.io/en/latest/architecture/how_jupyter_ipython_work.html\n",
    "</small>"
   ]
  },
  {
   "cell_type": "markdown",
   "metadata": {
    "slideshow": {
     "slide_type": "slide"
    }
   },
   "source": [
    "### Architecture\n",
    "* Notebooks are independent; dedicated kernels.\n",
    "* No security!\n",
    "* Assumption: User controls the client and the server.\n",
    "* Kernel may use arbitrary resources.\n",
    "* Notebook file is JSON (`.ipynb` suffix).\n",
    "* Contains serialized session.\n",
    "* Static file, renders well on github and nbviewer.jupyter.org"
   ]
  },
  {
   "cell_type": "markdown",
   "metadata": {
    "slideshow": {
     "slide_type": "slide"
    }
   },
   "source": [
    "# Outline\n",
    "* ✓ Jupyter\n",
    "* ✓ Architecture\n",
    "* &rarr; **Console**\n",
    "* Autocompletion\n",
    "* Notebooks: Basics\n",
    "* Magics\n",
    "* Comms (asynchronous)\n",
    "* Notebooks: Fancier"
   ]
  },
  {
   "cell_type": "markdown",
   "metadata": {
    "slideshow": {
     "slide_type": "slide"
    }
   },
   "source": [
    "###  Console\n",
    "Launch console client and server:\n",
    "\n",
    "```\n",
    "alias iperl6='jupyter-console --kernel=perl6'\n",
    "```\n",
    "![](files/img/welcome.png)"
   ]
  },
  {
   "cell_type": "markdown",
   "metadata": {
    "slideshow": {
     "slide_type": "slide"
    }
   },
   "source": [
    "### Console\n",
    "![](files/img/hello.png)\n",
    "* Syntax highlighting\n",
    "* `Out[*]`, `_*` have results, stdout in between\n",
    "* No output for `Nil` (or a final print)"
   ]
  },
  {
   "cell_type": "markdown",
   "metadata": {
    "slideshow": {
     "slide_type": "slide"
    }
   },
   "source": [
    "### Autocompletion\n",
    "<img style='width:60%' src='files/img/autocomplete.png'>\n",
    "* Lexical variables.\n",
    "   * Searches `LEXICAL::.keys`"
   ]
  },
  {
   "cell_type": "markdown",
   "metadata": {
    "slideshow": {
     "slide_type": "slide"
    }
   },
   "source": [
    "#### Autocompletion\n",
    "* Autocomplete methods by typing `.` and `[tab]`\n",
    "* `12.` will search within `Int`\n",
    "* `12.f` will search ancestors in the type hierarchy\n",
    "![](files/img/int-type.svg)"
   ]
  },
  {
   "cell_type": "code",
   "execution_count": null,
   "metadata": {
    "slideshow": {
     "slide_type": "fragment"
    }
   },
   "outputs": [],
   "source": [
    "12.^methods"
   ]
  },
  {
   "cell_type": "markdown",
   "metadata": {
    "slideshow": {
     "slide_type": "slide"
    }
   },
   "source": [
    "* Autocompletion\n",
    "  * Extra\n",
    "  * `(` to find set operators (e.g. to type ` $a ∪ $b` instead of `$a (|) $b`)\n",
    "  * `**` to type exponents (e.g. for `2⁷` instead of `2 ** 7`)\n",
    "  * `atomic` to type atomic operators (for `$a ⚛= 10` instead of `atomic-assign($a,10)`)\n",
    "  \n",
    "<img style='width:60%;' src='files/img/set.png'>"
   ]
  },
  {
   "cell_type": "markdown",
   "metadata": {
    "slideshow": {
     "slide_type": "slide"
    }
   },
   "source": [
    "# Outline\n",
    "* ✓ Jupyter\n",
    "* ✓ Architecture\n",
    "* ✓ Console\n",
    "* ✓ Autocompletion\n",
    "* &rarr; ** Notebooks: Basics **\n",
    "* Magics\n",
    "* Comms (asynchronous)\n",
    "* Notebooks: Fancier"
   ]
  },
  {
   "cell_type": "markdown",
   "metadata": {
    "slideshow": {
     "slide_type": "slide"
    }
   },
   "source": [
    "### Notebooks\n",
    "Launch web server and client:\n",
    "\n",
    "     $ jupyter-notebook\n",
    "     File → New Notebook → Perl 6"
   ]
  },
  {
   "cell_type": "code",
   "execution_count": null,
   "metadata": {
    "slideshow": {
     "slide_type": "fragment"
    }
   },
   "outputs": [],
   "source": [
    "<hello world>.join(' ') "
   ]
  },
  {
   "cell_type": "code",
   "execution_count": null,
   "metadata": {
    "slideshow": {
     "slide_type": "fragment"
    }
   },
   "outputs": [],
   "source": [
    "2 ** 127 - 1"
   ]
  },
  {
   "cell_type": "markdown",
   "metadata": {
    "slideshow": {
     "slide_type": "slide"
    }
   },
   "source": [
    "### Notebooks\n",
    "\n",
    "Important commands:\n",
    "* ctrl-enter -- execute cell\n",
    "* alt-enter -- execute cell, add another\n",
    "* `In[*]` prompt means it is running\n",
    "* `In[2]` when done (for cell 2)\n",
    "* Kernel → Restart & Run All\n",
    "* Kernel → Restart & Clear Output"
   ]
  },
  {
   "cell_type": "markdown",
   "metadata": {
    "slideshow": {
     "slide_type": "slide"
    }
   },
   "source": [
    "### Notebooks\n",
    "* Output cell and stdout can have MIME types.\n",
    "* SVG is recognized"
   ]
  },
  {
   "cell_type": "code",
   "execution_count": null,
   "metadata": {
    "slideshow": {
     "slide_type": "fragment"
    }
   },
   "outputs": [],
   "source": [
    "\n",
    "# SVG output is recognized\n",
    "q:to/SVG/\n",
    "  <svg height=\"100\" width=\"100\">\n",
    "   <circle cx=\"50\" cy=\"50\" r=\"40\"\n",
    "           stroke=\"black\" stroke-width=\"3\"\n",
    "           fill=\"red\" />\n",
    "  SVG\n",
    "# or use SVG::Plot"
   ]
  },
  {
   "cell_type": "markdown",
   "metadata": {
    "slideshow": {
     "slide_type": "slide"
    }
   },
   "source": [
    "# Outline\n",
    "* ✓ Jupyter\n",
    "* ✓ Architecture\n",
    "* ✓ Console\n",
    "* ✓ Autocompletion\n",
    "* ✓ Notebooks: Basics\n",
    "* &rarr; ** Magics **\n",
    "* Comms (asynchronous)\n",
    "* Notebooks: Fancier"
   ]
  },
  {
   "cell_type": "markdown",
   "metadata": {
    "slideshow": {
     "slide_type": "slide"
    }
   },
   "source": [
    "## Magics\n",
    "* First line of the cell, starts with `%%` or `#%`.\n",
    "* `%% html`, `%% latex` : specify the MIME type of the output"
   ]
  },
  {
   "cell_type": "code",
   "execution_count": null,
   "metadata": {
    "slideshow": {
     "slide_type": "fragment"
    }
   },
   "outputs": [],
   "source": [
    "%% html\n",
    "'<b>hello</b>, <i>world</i>';"
   ]
  },
  {
   "cell_type": "code",
   "execution_count": null,
   "metadata": {
    "slideshow": {
     "slide_type": "fragment"
    }
   },
   "outputs": [],
   "source": [
    "%% latex(equation)\n",
    "'\\frac{1}{2}'"
   ]
  },
  {
   "cell_type": "code",
   "execution_count": null,
   "metadata": {
    "slideshow": {
     "slide_type": "fragment"
    }
   },
   "outputs": [],
   "source": [
    "%% latex(equation)\n",
    "q:to/LATEX/\n",
    "  \\frac{{ - b \\pm \\sqrt {b^2 - 4ac} }}{{2a}}\n",
    "LATEX"
   ]
  },
  {
   "cell_type": "markdown",
   "metadata": {
    "slideshow": {
     "slide_type": "slide"
    }
   },
   "source": [
    "### Magics\n",
    "* `bash`. `run`"
   ]
  },
  {
   "cell_type": "code",
   "execution_count": null,
   "metadata": {
    "slideshow": {
     "slide_type": "fragment"
    }
   },
   "outputs": [],
   "source": [
    "%% bash\n",
    "# Treat the cell contents as bash\n",
    "echo 'my $distance = 12_0000;' > calc.p6\n",
    "echo 'my $speed = 120;' >> calc.p6\n",
    "echo 'my $time = $distance / $speed;' >> calc.p6 \n",
    "cat calc.p6"
   ]
  },
  {
   "cell_type": "code",
   "execution_count": null,
   "metadata": {
    "slideshow": {
     "slide_type": "fragment"
    }
   },
   "outputs": [],
   "source": [
    "%% run calc.p6\n",
    "say $distance;"
   ]
  },
  {
   "cell_type": "markdown",
   "metadata": {
    "slideshow": {
     "slide_type": "slide"
    }
   },
   "source": [
    "### Magics\n",
    "* `javascript`"
   ]
  },
  {
   "cell_type": "code",
   "execution_count": null,
   "metadata": {
    "slideshow": {
     "slide_type": "fragment"
    }
   },
   "outputs": [],
   "source": [
    "%% javascript\n",
    "element.append($('<div>').text('hello, world'))"
   ]
  },
  {
   "cell_type": "code",
   "execution_count": null,
   "metadata": {
    "slideshow": {
     "slide_type": "fragment"
    }
   },
   "outputs": [],
   "source": [
    "%% javascript\n",
    "// load chart.js\n",
    "require.config({ paths: {\n",
    " chartjs: [\n",
    "    \"https://cdnjs.cloudflare.com/ajax/libs/Chart.js/2.7.1/Chart.bundle\"\n",
    "    ]\n",
    "}});\n",
    "require(['chartjs'])"
   ]
  },
  {
   "cell_type": "code",
   "execution_count": null,
   "metadata": {
    "slideshow": {
     "slide_type": "slide"
    }
   },
   "outputs": [],
   "source": [
    "# data for chart.js\n",
    "my $counts = {\n",
    "  :type<bar>,\n",
    "  data => {\n",
    "    labels =>  [\"😊\"..\"😏\"],\n",
    "    datasets => [ {\n",
    "        :label<count>,\n",
    "         data => <13 19 3 5 10 3>,\n",
    "     }, ]\n",
    "  }\n",
    "};"
   ]
  },
  {
   "cell_type": "code",
   "execution_count": null,
   "metadata": {
    "slideshow": {
     "slide_type": "slide"
    }
   },
   "outputs": [],
   "source": [
    "%% html\n",
    "use JSON::Fast;\n",
    "qq:to/OUT/;\n",
    "<canvas id=\"emojis\" width=\"50\" height=\"10\"></canvas>\n",
    "<script>\n",
    "var canvas = document.getElementById(\"emojis\");\n",
    "var j = JSON.parse('{ to-json($counts, :!pretty) }');\n",
    "new Chart(canvas.getContext('2d'), j);\n",
    "</script>\n",
    "OUT"
   ]
  },
  {
   "cell_type": "markdown",
   "metadata": {
    "slideshow": {
     "slide_type": "slide"
    }
   },
   "source": [
    "# Outline\n",
    "* ✓ Jupyter\n",
    "* ✓ Architecture\n",
    "* ✓ Console\n",
    "* ✓ Autocompletion\n",
    "* ✓ Notebooks: Basics\n",
    "* ✓ Magics\n",
    "* &rarr; ** Comms (asynchronous) **\n",
    "* Notebooks: Fancier"
   ]
  },
  {
   "cell_type": "markdown",
   "metadata": {
    "slideshow": {
     "slide_type": "slide"
    }
   },
   "source": [
    "### Comms\n",
    "> The comm API is a symmetric, asynchronous, fire and forget style messaging API. It allows the programmer to send JSON-able blobs between the front-end and the back-end. \n",
    "\n",
    "<small style='font-size:50%'>\n",
    "-- http://ipywidgets.readthedocs.io/en/stable/examples/Widget%20Low%20Level.html\n",
    "</small>"
   ]
  },
  {
   "cell_type": "markdown",
   "metadata": {
    "slideshow": {
     "slide_type": "slide"
    }
   },
   "source": [
    "### Comms\n",
    "* `$*JUPYTER.register-comm($name, $routine)`  : register a comm.\n",
    "* `$routine(Channel :$in,Channel :$out,:$data)` : will be in a separate thread."
   ]
  },
  {
   "cell_type": "code",
   "execution_count": null,
   "metadata": {
    "slideshow": {
     "slide_type": "fragment"
    }
   },
   "outputs": [],
   "source": [
    "$*JUPYTER.register-comm: 'counter', -> Channel :$out {\n",
    "    react whenever Supply.interval(1) -> $i {\n",
    "         $out.send($i);\n",
    "         done if $i == 5;\n",
    "  }\n",
    "}"
   ]
  },
  {
   "cell_type": "code",
   "execution_count": null,
   "metadata": {
    "slideshow": {
     "slide_type": "fragment"
    }
   },
   "outputs": [],
   "source": [
    "%% javascript\n",
    "var comm = Jupyter.notebook.kernel.comm_manager.new_comm('counter');\n",
    "var el = $('<div>'); element.append(el);\n",
    "comm.on_msg(function(msg) { el.html(msg.content.data); });"
   ]
  },
  {
   "cell_type": "code",
   "execution_count": null,
   "metadata": {
    "slideshow": {
     "slide_type": "slide"
    }
   },
   "outputs": [],
   "source": [
    "$*JUPYTER.register-comm('adder', -> :$in, :$out {\n",
    "      my atomicint $num = 0;\n",
    "      start react whenever Supply.interval(1) -> $i {\n",
    "         $out.send($num + $i);\n",
    "         done if $i > 4;\n",
    "      }\n",
    "      start while $in.receive -> $i {\n",
    "         $num ⚛= $i;\n",
    "      }\n",
    "   }\n",
    ")"
   ]
  },
  {
   "cell_type": "code",
   "execution_count": null,
   "metadata": {
    "slideshow": {
     "slide_type": "fragment"
    }
   },
   "outputs": [],
   "source": [
    "%% javascript\n",
    "var comm = Jupyter.notebook.kernel.comm_manager.new_comm('adder');\n",
    "var el = $('<div>'); element.append(el);\n",
    "var x = 10;\n",
    "comm.on_msg(function(msg) {\n",
    "   el.html(msg.content.data);\n",
    "   comm.send(x);\n",
    "   x = x + 10;\n",
    "});"
   ]
  },
  {
   "cell_type": "markdown",
   "metadata": {
    "slideshow": {
     "slide_type": "slide"
    }
   },
   "source": [
    "# Outline\n",
    "* ✓ Jupyter\n",
    "* ✓ Architecture\n",
    "* ✓ Console\n",
    "* ✓ Autocompletion \n",
    "* ✓ Notebooks: Basics\n",
    "* ✓ Magics\n",
    "* ✓ Comms (asynchronous)\n",
    "* ** Notebooks: Fancier **"
   ]
  },
  {
   "cell_type": "markdown",
   "metadata": {
    "slideshow": {
     "slide_type": "slide"
    }
   },
   "source": [
    "### Fancier Notebook\n",
    "\n",
    "Let's use d3.js to visualize the fibonacci sequence.\n",
    "\n",
    "We want to do computation on the server, and stream results to the client for visualization.\n",
    "\n",
    "We'll send new values once a second, simulating a time-consuming calculation."
   ]
  },
  {
   "cell_type": "markdown",
   "metadata": {
    "slideshow": {
     "slide_type": "slide"
    }
   },
   "source": [
    "Fibonacci sequence: $ 1, 1, 2, 3, 5, 8, 13, ... $\n",
    "\n",
    "Formula :\n",
    "$$ F_1 = 1 $$\n",
    "$$ F_2 = 1 $$\n",
    "$$ F_n = F_{n-1} + F_{n-2} $$\n",
    "\n",
    "Ratio of successive terms:\n",
    "\n",
    "$$ \\frac{1}{1}, \\frac{2}{1}, \\frac{3}{2}, \\frac{5}{3}, \\frac{8}{5}, \\frac{13}{8}, ... \\frac{F_n+1}{F_n} $$\n",
    "\n",
    "Let's try to visualize and numerically verify that:\n",
    "\n",
    "$$ \\lim_{n\\to\\infty}\\frac{F_n+1}{F_{n}} = \\frac{1 + \\sqrt{5} }{2}$$"
   ]
  },
  {
   "cell_type": "markdown",
   "metadata": {
    "slideshow": {
     "slide_type": "slide"
    }
   },
   "source": [
    "![](files/img/spiral-2.png)\n",
    "\n",
    "| |↗|↖|↙|↘|↗|...|\n",
    "|---|---|---|---|---|---|---|\n",
    "|fibonacci | 1 | 1 | 2 | 3 | 5 | ... |\n",
    "|direction|1,1|-1,1|-1,-1|1,-1|1,1|...|\n",
    "|diagonal|1,1|-1,1|-2,-2|3,-3|5,5|...|\n",
    "|corner|1,1|0,2|-2,0|1,-3|6,2|..."
   ]
  },
  {
   "cell_type": "markdown",
   "metadata": {
    "slideshow": {
     "slide_type": "slide"
    }
   },
   "source": [
    "| |↗|↖|↙|↘|↗|...|\n",
    "|---|---|---|---|---|---|---|\n",
    "|fibonacci | 1 | 1 | 2 | 3 | 5 | ... |\n",
    "|direction|1,1|-1,1|-1,-1|1,-1|1,1|...|\n",
    "|diagonal|1,1|-1,1|-2,-2|3,-3|5,5|...|\n",
    "|corner|1,1|0,2|-2,0|1,-3|6,2|..."
   ]
  },
  {
   "cell_type": "code",
   "execution_count": null,
   "metadata": {
    "slideshow": {
     "slide_type": "fragment"
    }
   },
   "outputs": [],
   "source": [
    "my @fibonacci  = 1, 1, * + * ... ∞;\n",
    "@fibonacci[^20];"
   ]
  },
  {
   "cell_type": "markdown",
   "metadata": {
    "slideshow": {
     "slide_type": "slide"
    }
   },
   "source": [
    "| |↗|↖|↙|↘|↗|...|\n",
    "|---|---|---|---|---|---|---|\n",
    "|fibonacci | 1 | 1 | 2 | 3 | 5 | ... |\n",
    "|direction|1,1|-1,1|-1,-1|1,-1|1,1|...|\n",
    "|diagonal|1,1|-1,1|-2,-2|3,-3|5,5|...|\n",
    "|corner|1,1|0,2|-2,0|1,-3|6,2|..."
   ]
  },
  {
   "cell_type": "code",
   "execution_count": null,
   "metadata": {
    "slideshow": {
     "slide_type": "fragment"
    }
   },
   "outputs": [],
   "source": [
    "my @directions = |(<1 1>, <-1 1>, <-1 -1>, <1 -1>) xx ∞;\n",
    "@directions[^5]"
   ]
  },
  {
   "cell_type": "markdown",
   "metadata": {
    "slideshow": {
     "slide_type": "slide"
    }
   },
   "source": [
    "| |↗|↖|↙|↘|↗|...|\n",
    "|---|---|---|---|---|---|---|\n",
    "|fibonacci | 1 | 1 | 2 | 3 | 5 | ... |\n",
    "|direction|1,1|-1,1|-1,-1|1,-1|1,1|...|\n",
    "|diagonal|1,1|-1,1|-2,-2|3,-3|5,5|...|\n",
    "|corner|1,1|0,2|-2,0|1,-3|6,2|..."
   ]
  },
  {
   "cell_type": "code",
   "execution_count": null,
   "metadata": {
    "slideshow": {
     "slide_type": "fragment"
    }
   },
   "outputs": [],
   "source": [
    "my @diagonals  = @directions Z»*» @fibonacci;\n",
    "@diagonals[^5]"
   ]
  },
  {
   "cell_type": "markdown",
   "metadata": {
    "slideshow": {
     "slide_type": "fragment"
    }
   },
   "source": [
    "* `Z»*»` is `Z` zip meta operator + `»»` hyper operator + `*` operator."
   ]
  },
  {
   "cell_type": "markdown",
   "metadata": {
    "slideshow": {
     "slide_type": "slide"
    }
   },
   "source": [
    "| |↗|↖|↙|↘|↗|...|\n",
    "|---|---|---|---|---|---|---|\n",
    "|fibonacci | 1 | 1 | 2 | 3 | 5 | ... |\n",
    "|direction|1,1|-1,1|-1,-1|1,-1|1,1|...|\n",
    "|diagonal|1,1|-1,1|-2,-2|3,-3|5,5|...|\n",
    "|corner|1,1|0,2|-2,0|1,-3|6,2|..."
   ]
  },
  {
   "cell_type": "code",
   "execution_count": null,
   "metadata": {
    "slideshow": {
     "slide_type": "fragment"
    }
   },
   "outputs": [],
   "source": [
    "my @corners    = [\\»+»] @diagonals;\n",
    "@corners.unshift: (0,0);\n",
    "@corners[^5]"
   ]
  },
  {
   "cell_type": "markdown",
   "metadata": {
    "slideshow": {
     "slide_type": "fragment"
    }
   },
   "source": [
    "* `[\\»+»]` is `[\\]` triangular reduce operator + `»»` hyper operator + `+` operator."
   ]
  },
  {
   "cell_type": "code",
   "execution_count": null,
   "metadata": {
    "slideshow": {
     "slide_type": "fragment"
    }
   },
   "outputs": [],
   "source": [
    "# We'll also need rotations to help with our visualizations.\n",
    "my @rotations  = |<0 90 180 270> xx ∞;\n",
    "@rotations[^5]"
   ]
  },
  {
   "cell_type": "markdown",
   "metadata": {
    "slideshow": {
     "slide_type": "slide"
    }
   },
   "source": [
    "Ratios\n",
    "\n",
    "$$ \\frac{1}{1}, \\frac{2}{1}, \\frac{3}{2}, \\frac{5}{3}, \\frac{8}{5}, \\frac{13}{8}, ... \\frac{F_n+1}{F_n} $$"
   ]
  },
  {
   "cell_type": "code",
   "execution_count": null,
   "metadata": {
    "slideshow": {
     "slide_type": "fragment"
    }
   },
   "outputs": [],
   "source": [
    "my @pairs  = @fibonacci.rotor(2 => -1);\n",
    "@pairs[^5]"
   ]
  },
  {
   "cell_type": "code",
   "execution_count": null,
   "metadata": {
    "slideshow": {
     "slide_type": "fragment"
    }
   },
   "outputs": [],
   "source": [
    "my @ratios = @pairs.map: -> ($a,$b) { $b.FatRat / $a.FatRat }\n",
    "@ratios[^5]"
   ]
  },
  {
   "cell_type": "markdown",
   "metadata": {
    "slideshow": {
     "slide_type": "slide"
    }
   },
   "source": [
    "Accuracy\n",
    "\n",
    "\\begin{align}\n",
    "\\frac{F_n+1}{F_{n}} = r & \\approx \\frac{1 + \\sqrt{5} }{2} \\\\\n",
    "2r & \\approx 1 + \\sqrt{5} \\\\\n",
    "(2r - 1)^2 & \\approx 5 \\\\\n",
    "(2r - 1)^2 - 5 & \\approx 0\n",
    "\\end{align}"
   ]
  },
  {
   "cell_type": "code",
   "execution_count": null,
   "metadata": {
    "slideshow": {
     "slide_type": "fragment"
    }
   },
   "outputs": [],
   "source": [
    "my @accuracy = @ratios.map: -> \\r { (2 * r - 1)² - 5 }\n",
    "@accuracy[^5]"
   ]
  },
  {
   "cell_type": "markdown",
   "metadata": {
    "slideshow": {
     "slide_type": "slide"
    }
   },
   "source": [
    "Construct a sequence of messages to send to the client."
   ]
  },
  {
   "cell_type": "code",
   "execution_count": null,
   "metadata": {
    "slideshow": {
     "slide_type": "fragment"
    }
   },
   "outputs": [],
   "source": [
    "my @squares = ( [Z,] @corners, @fibonacci, @rotations, @ratios, @accuracy ).map: {\n",
    "   %( corner   => .[0],\n",
    "      height   => .[1],\n",
    "      rotation => .[2],\n",
    "      ratio    => .[3].Str,\n",
    "      fraction => .[3].nude,\n",
    "      accuracy => .[4].Str\n",
    "    )\n",
    "}\n",
    "@squares[0]"
   ]
  },
  {
   "cell_type": "code",
   "execution_count": null,
   "metadata": {
    "slideshow": {
     "slide_type": "fragment"
    }
   },
   "outputs": [],
   "source": [
    "$*JUPYTER.register-comm('golden-ratio',\n",
    "-> :$out {\n",
    "      start react whenever Supply.interval(0.75) -> $i {\n",
    "         $out.send(@squares[$i]);\n",
    "         done if $i > 30;\n",
    "      }\n",
    "   }\n",
    ")"
   ]
  },
  {
   "cell_type": "markdown",
   "metadata": {
    "slideshow": {
     "slide_type": "slide"
    }
   },
   "source": [
    "Meanwhile, on the client side..."
   ]
  },
  {
   "cell_type": "code",
   "execution_count": null,
   "metadata": {
    "slideshow": {
     "slide_type": "fragment"
    }
   },
   "outputs": [],
   "source": [
    "%% javascript\n",
    "require.config( { paths: {\n",
    "   'd3' : [   \n",
    "      'https://d3js.org/d3.v4.min'\n",
    "   ]\n",
    "   }});\n",
    "require(['d3'], function(d3) { window.d3 = d3 } )"
   ]
  },
  {
   "cell_type": "code",
   "execution_count": null,
   "metadata": {
    "slideshow": {
     "slide_type": "fragment"
    }
   },
   "outputs": [],
   "source": [
    "%% javascript\n",
    "// window.add_svg = function ...\n",
    "// window.add_square = function ..\n",
    "// window.zoom_out = function ..\n",
    "// window.display_ratio = function...\n",
    "$.get('files/helpers.js')"
   ]
  },
  {
   "cell_type": "code",
   "execution_count": null,
   "metadata": {
    "slideshow": {
     "slide_type": "slide"
    }
   },
   "outputs": [],
   "source": [
    "%% javascript\n",
    "var comm = Jupyter.notebook.kernel.comm_manager.new_comm('golden-ratio');\n",
    "var svg = add_svg(this.element);\n",
    "comm.on_msg(function(msg) {\n",
    "   var square = msg.content.data;\n",
    "   zoom_out(svg,square); \n",
    "   add_square(svg, square);\n",
    "   display_ratio(square);\n",
    "})"
   ]
  },
  {
   "cell_type": "markdown",
   "metadata": {
    "slideshow": {
     "slide_type": "slide"
    }
   },
   "source": [
    "### Conclusions\n",
    "\n",
    "* Many Perl 6 features fit well with Jupyter\n",
    "* Unicode support\n",
    "* Rational arithmetic\n",
    "* Infinite sequences\n",
    "* Asynchronous primitives\n",
    "\n",
    "### Future Work and Open Questions\n",
    "* Documentation browser\n",
    "* Support more MIME types\n",
    "* Widgets (based on comms); generate javascript\n",
    "* What features belong in the built-in REPL?"
   ]
  },
  {
   "cell_type": "markdown",
   "metadata": {
    "slideshow": {
     "slide_type": "slide"
    }
   },
   "source": [
    "### Thank you!\n",
    "```\n",
    "Also, thanks:\n",
    "Earlier iterations: Timo Paulssen, arnsholt\n",
    "Docker: Suman Khanal\n",
    "Javascript: Tom Chandler, Ryan Hinkel\n",
    "```\n",
    "![](files/img/promptworks-logo.png)\n"
   ]
  }
 ],
 "metadata": {
  "celltoolbar": "Slideshow",
  "kernelspec": {
   "display_name": "Perl 6",
   "language": "perl6",
   "name": "perl6"
  },
  "language_info": {
   "file_extension": ".p6",
   "mimetype": "text/plain",
   "name": "perl6",
   "version": "6.c"
  },
  "livereveal": {
   "center": false,
   "slideNumber": "c/t",
   "theme": "white",
   "transition": "slide"
  }
 },
 "nbformat": 4,
 "nbformat_minor": 2
}
